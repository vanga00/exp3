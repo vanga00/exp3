{
 "cells": [
  {
   "cell_type": "code",
   "execution_count": 18,
   "id": "718ebc3d",
   "metadata": {},
   "outputs": [
    {
     "name": "stdout",
     "output_type": "stream",
     "text": [
      "0 1 3 2 8 9 \n"
     ]
    }
   ],
   "source": [
    "from queue import PriorityQueue\n",
    "v = 14\n",
    "graph = [[] for i in range(v)]\n",
    "def best_first_search(actual_Src, target, n):\n",
    "     visited = [False] * n\n",
    "     pq = PriorityQueue()\n",
    "     pq.put((0, actual_Src))\n",
    "     visited[actual_Src] = True\n",
    "     while pq.empty() == False:\n",
    "         u = pq.get()[1]\n",
    "         print(u, end=\" \")\n",
    "         if u == target:\n",
    "             break\n",
    "\n",
    "         for v, c in graph[u]:\n",
    "             if visited[v] == False:\n",
    "                 visited[v] = True\n",
    "                 pq.put((c, v))\n",
    "     print()\n",
    "def addedge(x, y, cost):\n",
    "     graph[x].append((y, cost))\n",
    "     graph[y].append((x, cost))\n",
    "addedge(0, 1, 3)\n",
    "addedge(0, 2, 6)\n",
    "addedge(0, 3, 5)\n",
    "addedge(1, 4, 9)\n",
    "addedge(1, 5, 8)\n",
    "addedge(2, 6, 12)\n",
    "addedge(2, 7, 14)\n",
    "addedge(3, 8, 7)\n",
    "addedge(8, 9, 5)\n",
    "addedge(8, 10, 6)\n",
    "addedge(9, 11, 1)\n",
    "addedge(9, 12, 10)\n",
    "addedge(9, 13, 2)\n",
    "source = 0\n",
    "target = 9\n",
    "best_first_search(source, target, v)"
   ]
  }
 ],
 "metadata": {
  "kernelspec": {
   "display_name": "Python 3 (ipykernel)",
   "language": "python",
   "name": "python3"
  },
  "language_info": {
   "codemirror_mode": {
    "name": "ipython",
    "version": 3
   },
   "file_extension": ".py",
   "mimetype": "text/x-python",
   "name": "python",
   "nbconvert_exporter": "python",
   "pygments_lexer": "ipython3",
   "version": "3.11.5"
  }
 },
 "nbformat": 4,
 "nbformat_minor": 5
}
